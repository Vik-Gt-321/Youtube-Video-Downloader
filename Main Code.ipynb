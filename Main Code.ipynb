{
 "cells": [
  {
   "cell_type": "code",
   "execution_count": 2,
   "id": "67ac9e69",
   "metadata": {},
   "outputs": [
    {
     "name": "stdout",
     "output_type": "stream",
     "text": [
      "Collecting PyTube\n",
      "  Downloading pytube-12.1.0-py3-none-any.whl (56 kB)\n",
      "Installing collected packages: PyTube\n",
      "Successfully installed PyTube-12.1.0\n",
      "Note: you may need to restart the kernel to use updated packages.\n"
     ]
    }
   ],
   "source": [
    "# pip install PyTube"
   ]
  },
  {
   "cell_type": "code",
   "execution_count": 6,
   "id": "f9d9e27d",
   "metadata": {},
   "outputs": [
    {
     "name": "stdout",
     "output_type": "stream",
     "text": [
      "Collecting tk\n",
      "  Downloading tk-0.1.0-py3-none-any.whl (3.9 kB)\n",
      "Installing collected packages: tk\n",
      "Successfully installed tk-0.1.0\n",
      "Note: you may need to restart the kernel to use updated packages.\n"
     ]
    }
   ],
   "source": [
    "# pip install tk"
   ]
  },
  {
   "cell_type": "code",
   "execution_count": 4,
   "id": "7d29ee58",
   "metadata": {},
   "outputs": [
    {
     "name": "stdout",
     "output_type": "stream",
     "text": [
      "Requirement already satisfied: pytube in c:\\users\\vikky\\mlai\\sampleproj\\env\\lib\\site-packages (12.1.0)\n",
      "Note: you may need to restart the kernel to use updated packages.\n"
     ]
    }
   ],
   "source": [
    "# pip install pytube"
   ]
  },
  {
   "cell_type": "code",
   "execution_count": 1,
   "id": "3cc1cb96",
   "metadata": {},
   "outputs": [],
   "source": [
    "import numpy as np \n",
    "import random"
   ]
  },
  {
   "cell_type": "code",
   "execution_count": 2,
   "id": "714c3faa",
   "metadata": {},
   "outputs": [],
   "source": [
    "from pytube import YouTube"
   ]
  },
  {
   "cell_type": "code",
   "execution_count": 3,
   "id": "ce3180ce",
   "metadata": {},
   "outputs": [],
   "source": [
    "from tkinter import *"
   ]
  },
  {
   "cell_type": "code",
   "execution_count": 43,
   "id": "fbae6630",
   "metadata": {},
   "outputs": [
    {
     "name": "stdout",
     "output_type": "stream",
     "text": [
      "Collecting git+https://github.com/nficano/pytube.git\n",
      "  Cloning https://github.com/nficano/pytube.git to c:\\users\\vikky\\appdata\\local\\temp\\pip-req-build-4fb3ft8t\n",
      "Note: you may need to restart the kernel to use updated packages.\n"
     ]
    },
    {
     "name": "stderr",
     "output_type": "stream",
     "text": [
      "  Running command git clone -q https://github.com/nficano/pytube.git 'C:\\Users\\vikky\\AppData\\Local\\Temp\\pip-req-build-4fb3ft8t'\n"
     ]
    }
   ],
   "source": [
    "# pip install git+https://github.com/nficano/pytube.git"
   ]
  },
  {
   "cell_type": "code",
   "execution_count": 8,
   "id": "c57a831f",
   "metadata": {},
   "outputs": [],
   "source": [
    "def download():\n",
    "    url = YouTube(str(link.get())) \n",
    "    print(url)\n",
    "    video = url.streams.first() \n",
    "    video.download() # save path in brackets\n",
    "    Label(root, text=\"Downloaded\", font=\"arial 15\").place(x=185, y=120)\n",
    "    "
   ]
  },
  {
   "cell_type": "code",
   "execution_count": 9,
   "id": "d6162f32",
   "metadata": {},
   "outputs": [
    {
     "name": "stdout",
     "output_type": "stream",
     "text": [
      "<pytube.__main__.YouTube object: videoId=OWuPgq9wEyI>\n"
     ]
    }
   ],
   "source": [
    "root = Tk()\n",
    "root.geometry('500x300')\n",
    "root.resizable(0, 0)\n",
    "root.title('Youtube Downloader')\n",
    "\n",
    "\n",
    "\n",
    "Label(root, text=\"Download Youtube videos for free\", font='san-serif 14 bold').pack()\n",
    "link = StringVar()\n",
    "Label(root, text=\"Paste your link here\", font='san-serif 15 bold').place(x=150, y=55)\n",
    "link_enter = Entry(root, width=70, textvariable=link).place(x=30, y=85)\n",
    "Button(root, text='Download', font='san-serif 16 bold', padx=2,command=download).place(x = 180, y =150)\n",
    "\n",
    "root.mainloop()"
   ]
  },
  {
   "cell_type": "code",
   "execution_count": null,
   "id": "27a5c603",
   "metadata": {},
   "outputs": [],
   "source": []
  }
 ],
 "metadata": {
  "kernelspec": {
   "display_name": "Python 3",
   "language": "python",
   "name": "python3"
  },
  "language_info": {
   "codemirror_mode": {
    "name": "ipython",
    "version": 3
   },
   "file_extension": ".py",
   "mimetype": "text/x-python",
   "name": "python",
   "nbconvert_exporter": "python",
   "pygments_lexer": "ipython3",
   "version": "3.9.5"
  }
 },
 "nbformat": 4,
 "nbformat_minor": 5
}
